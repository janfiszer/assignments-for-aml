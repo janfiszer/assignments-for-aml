{
  "nbformat": 4,
  "nbformat_minor": 0,
  "metadata": {
    "colab": {
      "provenance": [],
      "toc_visible": true
    },
    "kernelspec": {
      "name": "python3",
      "display_name": "Python 3"
    },
    "language_info": {
      "name": "python"
    },
    "accelerator": "GPU",
    "gpuClass": "standard"
  },
  "cells": [
    {
      "cell_type": "markdown",
      "source": [
        "## Class activity"
      ],
      "metadata": {
        "id": "4_kcOJ52bqZx"
      }
    },
    {
      "cell_type": "code",
      "execution_count": 1,
      "metadata": {
        "id": "PgkBJmGrDbGO"
      },
      "outputs": [],
      "source": [
        "import numpy as np\n",
        "from tensorflow import keras \n",
        "from tensorflow.keras import layers\n",
        "import matplotlib.pyplot as plt"
      ]
    },
    {
      "cell_type": "code",
      "source": [
        "num_classes = 10\n",
        "input_shape = (28, 28 , 1)"
      ],
      "metadata": {
        "id": "ifp_0vVTDoI1"
      },
      "execution_count": 2,
      "outputs": []
    },
    {
      "cell_type": "code",
      "source": [
        "(X_train, y_train), (X_test, y_test) = keras.datasets.mnist.load_data()"
      ],
      "metadata": {
        "id": "o3EwkJGVD1GM",
        "colab": {
          "base_uri": "https://localhost:8080/"
        },
        "outputId": "158d0aa0-f46a-421b-dd9e-106aa16ee3a3"
      },
      "execution_count": 3,
      "outputs": [
        {
          "output_type": "stream",
          "name": "stdout",
          "text": [
            "Downloading data from https://storage.googleapis.com/tensorflow/tf-keras-datasets/mnist.npz\n",
            "11490434/11490434 [==============================] - 2s 0us/step\n"
          ]
        }
      ]
    },
    {
      "cell_type": "code",
      "source": [
        "X_train = X_train.astype(\"float32\") / 255\n",
        "X_test = X_test.astype(\"float32\") / 255"
      ],
      "metadata": {
        "id": "ZGxZmR_rETt-"
      },
      "execution_count": 4,
      "outputs": []
    },
    {
      "cell_type": "code",
      "source": [
        "X_train.shape, X_test.shape"
      ],
      "metadata": {
        "colab": {
          "base_uri": "https://localhost:8080/"
        },
        "id": "qVSk0OkAEgGL",
        "outputId": "c270d28c-0ce8-451a-bab4-e77c593e6eec"
      },
      "execution_count": 5,
      "outputs": [
        {
          "output_type": "execute_result",
          "data": {
            "text/plain": [
              "((60000, 28, 28), (10000, 28, 28))"
            ]
          },
          "metadata": {},
          "execution_count": 5
        }
      ]
    },
    {
      "cell_type": "code",
      "source": [
        "X_train = np.expand_dims(X_train, -1)\n",
        "X_test = np.expand_dims(X_test, -1)"
      ],
      "metadata": {
        "id": "wUdtraVGFL9A"
      },
      "execution_count": 6,
      "outputs": []
    },
    {
      "cell_type": "code",
      "source": [
        "X_train.shape, X_test.shape"
      ],
      "metadata": {
        "colab": {
          "base_uri": "https://localhost:8080/"
        },
        "id": "3MCtkuavFbbr",
        "outputId": "13cb47bf-5074-456f-ad73-d45f4f445584"
      },
      "execution_count": 7,
      "outputs": [
        {
          "output_type": "execute_result",
          "data": {
            "text/plain": [
              "((60000, 28, 28, 1), (10000, 28, 28, 1))"
            ]
          },
          "metadata": {},
          "execution_count": 7
        }
      ]
    },
    {
      "cell_type": "code",
      "source": [
        "y_train = keras.utils.to_categorical(y_train, num_classes)\n",
        "y_test = keras.utils.to_categorical(y_test , num_classes)"
      ],
      "metadata": {
        "id": "J-ltHgjhFc0T"
      },
      "execution_count": 8,
      "outputs": []
    },
    {
      "cell_type": "code",
      "source": [
        "model = keras.Sequential(\n",
        "    [\n",
        "        keras.Input(shape=input_shape),\n",
        "        layers.Conv2D(32, kernel_size=(3,3), activation=\"relu\"),\n",
        "        layers.MaxPool2D(pool_size=(2,2)),\n",
        "        layers.Conv2D(64, kernel_size=(3,3), activation=\"relu\"),\n",
        "        layers.MaxPool2D(pool_size=(2,2)),\n",
        "        layers.Flatten(),\n",
        "        layers.Dropout(0.5),\n",
        "        layers.Dense(num_classes, activation=\"softmax\")\n",
        "    ]\n",
        ")\n",
        "\n",
        "model.summary()"
      ],
      "metadata": {
        "colab": {
          "base_uri": "https://localhost:8080/"
        },
        "id": "dIIgTPlzFvCv",
        "outputId": "201cc840-d583-4a50-9ba2-8daf95bd2ba9"
      },
      "execution_count": 9,
      "outputs": [
        {
          "output_type": "stream",
          "name": "stdout",
          "text": [
            "Model: \"sequential\"\n",
            "_________________________________________________________________\n",
            " Layer (type)                Output Shape              Param #   \n",
            "=================================================================\n",
            " conv2d (Conv2D)             (None, 26, 26, 32)        320       \n",
            "                                                                 \n",
            " max_pooling2d (MaxPooling2D  (None, 13, 13, 32)       0         \n",
            " )                                                               \n",
            "                                                                 \n",
            " conv2d_1 (Conv2D)           (None, 11, 11, 64)        18496     \n",
            "                                                                 \n",
            " max_pooling2d_1 (MaxPooling  (None, 5, 5, 64)         0         \n",
            " 2D)                                                             \n",
            "                                                                 \n",
            " flatten (Flatten)           (None, 1600)              0         \n",
            "                                                                 \n",
            " dropout (Dropout)           (None, 1600)              0         \n",
            "                                                                 \n",
            " dense (Dense)               (None, 10)                16010     \n",
            "                                                                 \n",
            "=================================================================\n",
            "Total params: 34,826\n",
            "Trainable params: 34,826\n",
            "Non-trainable params: 0\n",
            "_________________________________________________________________\n"
          ]
        }
      ]
    },
    {
      "cell_type": "code",
      "source": [
        "batch_size = 128\n",
        "epochs = 10"
      ],
      "metadata": {
        "id": "vgTmdVbEJDbt"
      },
      "execution_count": 13,
      "outputs": []
    },
    {
      "cell_type": "code",
      "source": [
        "model.compile(loss=\"categorical_crossentropy\", optimizer=\"adam\", metrics=[\"accuracy\"])\n",
        "model.fit(X_train, y_train, epochs=epochs, batch_size=batch_size, validation_split=0.1)"
      ],
      "metadata": {
        "colab": {
          "base_uri": "https://localhost:8080/"
        },
        "id": "TLVnHjTeJGgr",
        "outputId": "5d945f18-962d-4c25-82f2-0bb5e663e840"
      },
      "execution_count": null,
      "outputs": [
        {
          "output_type": "stream",
          "name": "stdout",
          "text": [
            "Epoch 1/10\n",
            "422/422 [==============================] - 11s 6ms/step - loss: 0.3641 - accuracy: 0.8895 - val_loss: 0.0890 - val_accuracy: 0.9758\n",
            "Epoch 2/10\n",
            "422/422 [==============================] - 2s 5ms/step - loss: 0.1217 - accuracy: 0.9629 - val_loss: 0.0631 - val_accuracy: 0.9827\n",
            "Epoch 3/10\n",
            "422/422 [==============================] - 2s 5ms/step - loss: 0.0909 - accuracy: 0.9720 - val_loss: 0.0510 - val_accuracy: 0.9855\n",
            "Epoch 4/10\n",
            "422/422 [==============================] - 2s 5ms/step - loss: 0.0772 - accuracy: 0.9759 - val_loss: 0.0422 - val_accuracy: 0.9882\n",
            "Epoch 5/10\n",
            "422/422 [==============================] - 2s 5ms/step - loss: 0.0683 - accuracy: 0.9784 - val_loss: 0.0394 - val_accuracy: 0.9902\n",
            "Epoch 6/10\n",
            "422/422 [==============================] - 2s 5ms/step - loss: 0.0624 - accuracy: 0.9800 - val_loss: 0.0435 - val_accuracy: 0.9872\n",
            "Epoch 7/10\n",
            "422/422 [==============================] - 2s 5ms/step - loss: 0.0558 - accuracy: 0.9831 - val_loss: 0.0378 - val_accuracy: 0.9892\n",
            "Epoch 8/10\n",
            "422/422 [==============================] - 2s 5ms/step - loss: 0.0524 - accuracy: 0.9840 - val_loss: 0.0371 - val_accuracy: 0.9897\n",
            "Epoch 9/10\n",
            "422/422 [==============================] - 2s 5ms/step - loss: 0.0495 - accuracy: 0.9842 - val_loss: 0.0357 - val_accuracy: 0.9902\n",
            "Epoch 10/10\n",
            "422/422 [==============================] - 2s 5ms/step - loss: 0.0474 - accuracy: 0.9849 - val_loss: 0.0328 - val_accuracy: 0.9905\n"
          ]
        },
        {
          "output_type": "execute_result",
          "data": {
            "text/plain": [
              "<keras.callbacks.History at 0x7fab40142430>"
            ]
          },
          "metadata": {},
          "execution_count": 12
        }
      ]
    },
    {
      "cell_type": "markdown",
      "source": [
        "## Assigment \n",
        "- MAX: 10 000 params\n",
        "- BEST ACCURACY"
      ],
      "metadata": {
        "id": "psjogR4sKHye"
      }
    },
    {
      "cell_type": "markdown",
      "source": [
        "### Model 1\n"
      ],
      "metadata": {
        "id": "7NQT0IFGXCJv"
      }
    },
    {
      "cell_type": "code",
      "source": [
        "# reducing the channels number and changing max pooling to an average one\n",
        "# with bigger size (3x3), because of the 10 000 params constraint\n",
        "# average pooling\n",
        "\n",
        "my_model1 = keras.Sequential(\n",
        "    [\n",
        "        keras.Input(shape=input_shape),\n",
        "        layers.Conv2D(16, kernel_size=(3,3), activation=\"relu\"),\n",
        "        layers.AveragePooling2D(pool_size=(3,3)),\n",
        "        layers.Conv2D(32, kernel_size=(3,3), activation=\"relu\"),\n",
        "        layers.AveragePooling2D(pool_size=(2,2)),\n",
        "        layers.Flatten(),\n",
        "        layers.Dropout(0.5),\n",
        "        layers.Dense(num_classes, activation=\"softmax\")\n",
        "    ]\n",
        ")\n",
        "\n",
        "my_model1.summary()"
      ],
      "metadata": {
        "colab": {
          "base_uri": "https://localhost:8080/"
        },
        "id": "CW3vXr5jJx_D",
        "outputId": "39abb782-edea-4def-ced0-61f84f2416ed"
      },
      "execution_count": null,
      "outputs": [
        {
          "output_type": "stream",
          "name": "stdout",
          "text": [
            "Model: \"sequential_1\"\n",
            "_________________________________________________________________\n",
            " Layer (type)                Output Shape              Param #   \n",
            "=================================================================\n",
            " conv2d_2 (Conv2D)           (None, 26, 26, 16)        160       \n",
            "                                                                 \n",
            " average_pooling2d (AverageP  (None, 8, 8, 16)         0         \n",
            " ooling2D)                                                       \n",
            "                                                                 \n",
            " conv2d_3 (Conv2D)           (None, 6, 6, 32)          4640      \n",
            "                                                                 \n",
            " average_pooling2d_1 (Averag  (None, 3, 3, 32)         0         \n",
            " ePooling2D)                                                     \n",
            "                                                                 \n",
            " flatten_1 (Flatten)         (None, 288)               0         \n",
            "                                                                 \n",
            " dropout_1 (Dropout)         (None, 288)               0         \n",
            "                                                                 \n",
            " dense_1 (Dense)             (None, 10)                2890      \n",
            "                                                                 \n",
            "=================================================================\n",
            "Total params: 7,690\n",
            "Trainable params: 7,690\n",
            "Non-trainable params: 0\n",
            "_________________________________________________________________\n"
          ]
        }
      ]
    },
    {
      "cell_type": "code",
      "source": [
        "my_model1.compile(loss=\"categorical_crossentropy\", optimizer=\"adam\", metrics=[\"accuracy\"])\n",
        "my_model1.fit(X_train, y_train, epochs=epochs, batch_size=batch_size, validation_split=0.1)"
      ],
      "metadata": {
        "colab": {
          "base_uri": "https://localhost:8080/"
        },
        "id": "MrtPYkeeMOp4",
        "outputId": "e03f751d-a43a-49b2-b741-71074127cb9f"
      },
      "execution_count": null,
      "outputs": [
        {
          "output_type": "stream",
          "name": "stdout",
          "text": [
            "Epoch 1/10\n",
            "422/422 [==============================] - 13s 5ms/step - loss: 0.8603 - accuracy: 0.7267 - val_loss: 0.2268 - val_accuracy: 0.9418\n",
            "Epoch 2/10\n",
            "422/422 [==============================] - 2s 4ms/step - loss: 0.3397 - accuracy: 0.8963 - val_loss: 0.1526 - val_accuracy: 0.9602\n",
            "Epoch 3/10\n",
            "422/422 [==============================] - 2s 4ms/step - loss: 0.2586 - accuracy: 0.9224 - val_loss: 0.1327 - val_accuracy: 0.9627\n",
            "Epoch 4/10\n",
            "422/422 [==============================] - 2s 4ms/step - loss: 0.2229 - accuracy: 0.9333 - val_loss: 0.1074 - val_accuracy: 0.9725\n",
            "Epoch 5/10\n",
            "422/422 [==============================] - 2s 4ms/step - loss: 0.2022 - accuracy: 0.9393 - val_loss: 0.1016 - val_accuracy: 0.9733\n",
            "Epoch 6/10\n",
            "422/422 [==============================] - 2s 4ms/step - loss: 0.1889 - accuracy: 0.9424 - val_loss: 0.0930 - val_accuracy: 0.9752\n",
            "Epoch 7/10\n",
            "422/422 [==============================] - 2s 4ms/step - loss: 0.1756 - accuracy: 0.9471 - val_loss: 0.0884 - val_accuracy: 0.9770\n",
            "Epoch 8/10\n",
            "422/422 [==============================] - 2s 4ms/step - loss: 0.1664 - accuracy: 0.9506 - val_loss: 0.0844 - val_accuracy: 0.9770\n",
            "Epoch 9/10\n",
            "422/422 [==============================] - 2s 4ms/step - loss: 0.1568 - accuracy: 0.9534 - val_loss: 0.0811 - val_accuracy: 0.9792\n",
            "Epoch 10/10\n",
            "422/422 [==============================] - 2s 4ms/step - loss: 0.1499 - accuracy: 0.9550 - val_loss: 0.0774 - val_accuracy: 0.9800\n"
          ]
        },
        {
          "output_type": "execute_result",
          "data": {
            "text/plain": [
              "<keras.callbacks.History at 0x7f37f00631c0>"
            ]
          },
          "metadata": {},
          "execution_count": 12
        }
      ]
    },
    {
      "cell_type": "code",
      "source": [
        "loss, acc = my_model1.evaluate(X_test, y_test)\n",
        "\n",
        "print(\"my_model1 obtained accuracy:\", acc)\n",
        "print(\"and loss:\", loss)"
      ],
      "metadata": {
        "colab": {
          "base_uri": "https://localhost:8080/"
        },
        "id": "26GhqLLkO2jw",
        "outputId": "94c31811-32d6-456e-a61f-34ce99511db5"
      },
      "execution_count": null,
      "outputs": [
        {
          "output_type": "stream",
          "name": "stdout",
          "text": [
            "313/313 [==============================] - 1s 3ms/step - loss: 0.0484 - accuracy: 0.9854\n",
            "my_model1 obtained accuracy: 0.9854000210762024\n",
            "and loss: 0.048365283757448196\n"
          ]
        }
      ]
    },
    {
      "cell_type": "markdown",
      "source": [
        "### Model 2"
      ],
      "metadata": {
        "id": "9odgsyCVX-F7"
      }
    },
    {
      "cell_type": "code",
      "source": [
        "# everything same like before\n",
        "# except the pooling\n",
        "# cheking which one is better\n",
        "\n",
        "my_model2 = keras.Sequential(\n",
        "    [\n",
        "        keras.Input(shape=input_shape),\n",
        "        layers.Conv2D(16, kernel_size=(3,3), activation=\"relu\"),\n",
        "        layers.MaxPooling2D(pool_size=(3,3)),\n",
        "        layers.Conv2D(32, kernel_size=(3,3), activation=\"relu\"),\n",
        "        layers.MaxPooling2D(pool_size=(2,2)),\n",
        "        layers.Flatten(),\n",
        "        layers.Dropout(0.5),\n",
        "        layers.Dense(num_classes, activation=\"softmax\")\n",
        "    ]\n",
        ")\n",
        "\n",
        "my_model2.summary()"
      ],
      "metadata": {
        "colab": {
          "base_uri": "https://localhost:8080/"
        },
        "id": "OXD0lmxUNUuf",
        "outputId": "5766c66f-8b5d-44fd-b36a-e2f51178f9b8"
      },
      "execution_count": null,
      "outputs": [
        {
          "output_type": "stream",
          "name": "stdout",
          "text": [
            "Model: \"sequential_2\"\n",
            "_________________________________________________________________\n",
            " Layer (type)                Output Shape              Param #   \n",
            "=================================================================\n",
            " conv2d_4 (Conv2D)           (None, 26, 26, 16)        160       \n",
            "                                                                 \n",
            " max_pooling2d_2 (MaxPooling  (None, 8, 8, 16)         0         \n",
            " 2D)                                                             \n",
            "                                                                 \n",
            " conv2d_5 (Conv2D)           (None, 6, 6, 32)          4640      \n",
            "                                                                 \n",
            " max_pooling2d_3 (MaxPooling  (None, 3, 3, 32)         0         \n",
            " 2D)                                                             \n",
            "                                                                 \n",
            " flatten_2 (Flatten)         (None, 288)               0         \n",
            "                                                                 \n",
            " dropout_2 (Dropout)         (None, 288)               0         \n",
            "                                                                 \n",
            " dense_2 (Dense)             (None, 10)                2890      \n",
            "                                                                 \n",
            "=================================================================\n",
            "Total params: 7,690\n",
            "Trainable params: 7,690\n",
            "Non-trainable params: 0\n",
            "_________________________________________________________________\n"
          ]
        }
      ]
    },
    {
      "cell_type": "code",
      "source": [
        "my_model2.compile(loss=\"categorical_crossentropy\", optimizer=\"adam\", metrics=[\"accuracy\"])\n",
        "my_model2.fit(X_train, y_train, epochs=epochs, batch_size=batch_size, validation_split=0.1)"
      ],
      "metadata": {
        "colab": {
          "base_uri": "https://localhost:8080/"
        },
        "id": "i_swHr7jOl7R",
        "outputId": "4920dedc-603e-4a51-fb95-0609b402bab2"
      },
      "execution_count": null,
      "outputs": [
        {
          "output_type": "stream",
          "name": "stdout",
          "text": [
            "Epoch 1/10\n",
            "422/422 [==============================] - 2s 5ms/step - loss: 0.7343 - accuracy: 0.7641 - val_loss: 0.1352 - val_accuracy: 0.9638\n",
            "Epoch 2/10\n",
            "422/422 [==============================] - 2s 4ms/step - loss: 0.2258 - accuracy: 0.9311 - val_loss: 0.0941 - val_accuracy: 0.9748\n",
            "Epoch 3/10\n",
            "422/422 [==============================] - 2s 4ms/step - loss: 0.1771 - accuracy: 0.9446 - val_loss: 0.0739 - val_accuracy: 0.9792\n",
            "Epoch 4/10\n",
            "422/422 [==============================] - 2s 4ms/step - loss: 0.1519 - accuracy: 0.9539 - val_loss: 0.0627 - val_accuracy: 0.9835\n",
            "Epoch 5/10\n",
            "422/422 [==============================] - 2s 4ms/step - loss: 0.1360 - accuracy: 0.9588 - val_loss: 0.0550 - val_accuracy: 0.9843\n",
            "Epoch 6/10\n",
            "422/422 [==============================] - 2s 4ms/step - loss: 0.1232 - accuracy: 0.9617 - val_loss: 0.0509 - val_accuracy: 0.9865\n",
            "Epoch 7/10\n",
            "422/422 [==============================] - 2s 4ms/step - loss: 0.1162 - accuracy: 0.9641 - val_loss: 0.0479 - val_accuracy: 0.9867\n",
            "Epoch 8/10\n",
            "422/422 [==============================] - 2s 4ms/step - loss: 0.1078 - accuracy: 0.9660 - val_loss: 0.0461 - val_accuracy: 0.9873\n",
            "Epoch 9/10\n",
            "422/422 [==============================] - 2s 4ms/step - loss: 0.1037 - accuracy: 0.9677 - val_loss: 0.0429 - val_accuracy: 0.9873\n",
            "Epoch 10/10\n",
            "422/422 [==============================] - 2s 4ms/step - loss: 0.0977 - accuracy: 0.9692 - val_loss: 0.0453 - val_accuracy: 0.9860\n"
          ]
        },
        {
          "output_type": "execute_result",
          "data": {
            "text/plain": [
              "<keras.callbacks.History at 0x7faae43c4820>"
            ]
          },
          "metadata": {},
          "execution_count": 17
        }
      ]
    },
    {
      "cell_type": "code",
      "source": [
        "loss, acc = my_model2.evaluate(X_test, y_test)\n",
        "\n",
        "print(\"my_model2 obtained accuracy:\", acc)\n",
        "print(\"and loss:\", loss)"
      ],
      "metadata": {
        "colab": {
          "base_uri": "https://localhost:8080/"
        },
        "id": "hAg-sbAKOu8I",
        "outputId": "b1f86f17-b230-49f9-8c44-c449fa0ecfc4"
      },
      "execution_count": null,
      "outputs": [
        {
          "output_type": "stream",
          "name": "stdout",
          "text": [
            "313/313 [==============================] - 1s 3ms/step - loss: 0.0467 - accuracy: 0.9861\n",
            "my_model2 obtained accuracy: 0.9861000180244446\n",
            "and loss: 0.04672865942120552\n"
          ]
        }
      ]
    },
    {
      "cell_type": "markdown",
      "source": [
        "The results are too simmilar to judge, which pooling is better."
      ],
      "metadata": {
        "id": "VyqWzjBRPeJp"
      }
    },
    {
      "cell_type": "markdown",
      "source": [
        "### Model 3"
      ],
      "metadata": {
        "id": "Sodna55lYAXE"
      }
    },
    {
      "cell_type": "code",
      "source": [
        "# now more channels with stronger pooling\n",
        "\n",
        "my_model3 = keras.Sequential(\n",
        "    [\n",
        "        keras.Input(shape=input_shape),\n",
        "        layers.Conv2D(20, kernel_size=(3,3), activation=\"relu\"),\n",
        "        layers.MaxPooling2D(pool_size=(4,4)),\n",
        "        layers.Conv2D(40, kernel_size=(3,3), activation=\"relu\"),\n",
        "        layers.MaxPool2D(pool_size=(4,4)),\n",
        "        layers.Flatten(),\n",
        "        layers.Dropout(0.5),\n",
        "        layers.Dense(num_classes, activation=\"softmax\")\n",
        "    ]\n",
        ")\n",
        "\n",
        "my_model3.summary()"
      ],
      "metadata": {
        "colab": {
          "base_uri": "https://localhost:8080/"
        },
        "id": "dx5LFRGvPi3N",
        "outputId": "718cefac-4ffd-4fb8-d532-3575b2c6415f"
      },
      "execution_count": 11,
      "outputs": [
        {
          "output_type": "stream",
          "name": "stdout",
          "text": [
            "Model: \"sequential_2\"\n",
            "_________________________________________________________________\n",
            " Layer (type)                Output Shape              Param #   \n",
            "=================================================================\n",
            " conv2d_4 (Conv2D)           (None, 26, 26, 20)        200       \n",
            "                                                                 \n",
            " max_pooling2d_4 (MaxPooling  (None, 6, 6, 20)         0         \n",
            " 2D)                                                             \n",
            "                                                                 \n",
            " conv2d_5 (Conv2D)           (None, 4, 4, 40)          7240      \n",
            "                                                                 \n",
            " max_pooling2d_5 (MaxPooling  (None, 1, 1, 40)         0         \n",
            " 2D)                                                             \n",
            "                                                                 \n",
            " flatten_2 (Flatten)         (None, 40)                0         \n",
            "                                                                 \n",
            " dropout_2 (Dropout)         (None, 40)                0         \n",
            "                                                                 \n",
            " dense_2 (Dense)             (None, 10)                410       \n",
            "                                                                 \n",
            "=================================================================\n",
            "Total params: 7,850\n",
            "Trainable params: 7,850\n",
            "Non-trainable params: 0\n",
            "_________________________________________________________________\n"
          ]
        }
      ]
    },
    {
      "cell_type": "code",
      "source": [
        "my_model3.compile(loss=\"categorical_crossentropy\", optimizer=\"adam\", metrics=[\"accuracy\"])\n",
        "my_model3.fit(X_train, y_train, epochs=epochs, batch_size=batch_size, validation_split=0.1)"
      ],
      "metadata": {
        "id": "REbLHd86QGdG",
        "colab": {
          "base_uri": "https://localhost:8080/"
        },
        "outputId": "6c84d724-07df-4368-d572-5a2a8b34cdd5"
      },
      "execution_count": 14,
      "outputs": [
        {
          "output_type": "stream",
          "name": "stdout",
          "text": [
            "Epoch 1/10\n",
            "422/422 [==============================] - 11s 5ms/step - loss: 1.3136 - accuracy: 0.5721 - val_loss: 0.4285 - val_accuracy: 0.9160\n",
            "Epoch 2/10\n",
            "422/422 [==============================] - 2s 4ms/step - loss: 0.6456 - accuracy: 0.7954 - val_loss: 0.2391 - val_accuracy: 0.9495\n",
            "Epoch 3/10\n",
            "422/422 [==============================] - 2s 4ms/step - loss: 0.5170 - accuracy: 0.8377 - val_loss: 0.1902 - val_accuracy: 0.9580\n",
            "Epoch 4/10\n",
            "422/422 [==============================] - 2s 4ms/step - loss: 0.4561 - accuracy: 0.8565 - val_loss: 0.1515 - val_accuracy: 0.9638\n",
            "Epoch 5/10\n",
            "422/422 [==============================] - 2s 4ms/step - loss: 0.4155 - accuracy: 0.8693 - val_loss: 0.1362 - val_accuracy: 0.9690\n",
            "Epoch 6/10\n",
            "422/422 [==============================] - 2s 4ms/step - loss: 0.3872 - accuracy: 0.8804 - val_loss: 0.1221 - val_accuracy: 0.9708\n",
            "Epoch 7/10\n",
            "422/422 [==============================] - 2s 4ms/step - loss: 0.3623 - accuracy: 0.8889 - val_loss: 0.1121 - val_accuracy: 0.9700\n",
            "Epoch 8/10\n",
            "422/422 [==============================] - 2s 4ms/step - loss: 0.3501 - accuracy: 0.8896 - val_loss: 0.1061 - val_accuracy: 0.9707\n",
            "Epoch 9/10\n",
            "422/422 [==============================] - 2s 4ms/step - loss: 0.3316 - accuracy: 0.8959 - val_loss: 0.1025 - val_accuracy: 0.9727\n",
            "Epoch 10/10\n",
            "422/422 [==============================] - 2s 4ms/step - loss: 0.3222 - accuracy: 0.9004 - val_loss: 0.0981 - val_accuracy: 0.9737\n"
          ]
        },
        {
          "output_type": "execute_result",
          "data": {
            "text/plain": [
              "<keras.callbacks.History at 0x7f59b01bec70>"
            ]
          },
          "metadata": {},
          "execution_count": 14
        }
      ]
    },
    {
      "cell_type": "code",
      "source": [
        "loss, acc = my_model3.evaluate(X_test, y_test)\n",
        "\n",
        "print(\"my_model3 obtained accuracy:\", acc)\n",
        "print(\"and loss:\", loss)"
      ],
      "metadata": {
        "colab": {
          "base_uri": "https://localhost:8080/"
        },
        "id": "d0rfrIdYacC4",
        "outputId": "e82959d4-16a6-41f0-eb33-02a5ed75dc62"
      },
      "execution_count": 15,
      "outputs": [
        {
          "output_type": "stream",
          "name": "stdout",
          "text": [
            "313/313 [==============================] - 1s 3ms/step - loss: 0.1064 - accuracy: 0.9700\n",
            "my_model3 obtained accuracy: 0.9700000286102295\n",
            "and loss: 0.10640662908554077\n"
          ]
        }
      ]
    },
    {
      "cell_type": "markdown",
      "source": [
        "### Model 4"
      ],
      "metadata": {
        "id": "_ueDe7X8YFfd"
      }
    },
    {
      "cell_type": "code",
      "source": [
        "# now more channels with bigger stride\n",
        "\n",
        "my_model4 = keras.Sequential(\n",
        "    [\n",
        "        keras.Input(shape=input_shape),\n",
        "        layers.Conv2D(24, kernel_size=(3,3), activation=\"relu\", strides=(2,1)),\n",
        "        layers.MaxPooling2D(pool_size=(2,2)),\n",
        "        layers.Conv2D(48, kernel_size=(3,3), activation=\"relu\", strides=(2,1)),\n",
        "        layers.MaxPool2D(pool_size=(2,2)),\n",
        "        layers.Flatten(),\n",
        "        layers.Dropout(0.5),\n",
        "        layers.Dense(num_classes, activation=\"softmax\")\n",
        "    ]\n",
        ")\n",
        "\n",
        "my_model4.summary()"
      ],
      "metadata": {
        "colab": {
          "base_uri": "https://localhost:8080/"
        },
        "id": "ScBlUp65auyI",
        "outputId": "8e6057d9-61f6-4669-de36-60065bc365f8"
      },
      "execution_count": null,
      "outputs": [
        {
          "output_type": "stream",
          "name": "stdout",
          "text": [
            "Model: \"sequential_4\"\n",
            "_________________________________________________________________\n",
            " Layer (type)                Output Shape              Param #   \n",
            "=================================================================\n",
            " conv2d_8 (Conv2D)           (None, 13, 26, 24)        240       \n",
            "                                                                 \n",
            " max_pooling2d_6 (MaxPooling  (None, 6, 13, 24)        0         \n",
            " 2D)                                                             \n",
            "                                                                 \n",
            " conv2d_9 (Conv2D)           (None, 2, 11, 48)         10416     \n",
            "                                                                 \n",
            " max_pooling2d_7 (MaxPooling  (None, 1, 5, 48)         0         \n",
            " 2D)                                                             \n",
            "                                                                 \n",
            " flatten_4 (Flatten)         (None, 240)               0         \n",
            "                                                                 \n",
            " dropout_4 (Dropout)         (None, 240)               0         \n",
            "                                                                 \n",
            " dense_4 (Dense)             (None, 10)                2410      \n",
            "                                                                 \n",
            "=================================================================\n",
            "Total params: 13,066\n",
            "Trainable params: 13,066\n",
            "Non-trainable params: 0\n",
            "_________________________________________________________________\n"
          ]
        }
      ]
    },
    {
      "cell_type": "code",
      "source": [
        "my_model4.compile(loss=\"categorical_crossentropy\", optimizer=\"adam\", metrics=[\"accuracy\"])\n",
        "my_model4.fit(X_train, y_train, epochs=epochs, batch_size=batch_size, validation_split=0.1)"
      ],
      "metadata": {
        "colab": {
          "base_uri": "https://localhost:8080/"
        },
        "id": "yUpwjjuQbOPd",
        "outputId": "c873f074-6c73-43f4-ca60-f9c7bb5f425f"
      },
      "execution_count": null,
      "outputs": [
        {
          "output_type": "stream",
          "name": "stdout",
          "text": [
            "Epoch 1/10\n",
            "422/422 [==============================] - 3s 5ms/step - loss: 0.8444 - accuracy: 0.7342 - val_loss: 0.2307 - val_accuracy: 0.9398\n",
            "Epoch 2/10\n",
            "422/422 [==============================] - 2s 4ms/step - loss: 0.3614 - accuracy: 0.8890 - val_loss: 0.1626 - val_accuracy: 0.9560\n",
            "Epoch 3/10\n",
            "422/422 [==============================] - 2s 4ms/step - loss: 0.2881 - accuracy: 0.9126 - val_loss: 0.1346 - val_accuracy: 0.9625\n",
            "Epoch 4/10\n",
            "422/422 [==============================] - 2s 4ms/step - loss: 0.2550 - accuracy: 0.9231 - val_loss: 0.1174 - val_accuracy: 0.9668\n",
            "Epoch 5/10\n",
            "422/422 [==============================] - 2s 5ms/step - loss: 0.2302 - accuracy: 0.9297 - val_loss: 0.1057 - val_accuracy: 0.9715\n",
            "Epoch 6/10\n",
            "422/422 [==============================] - 2s 4ms/step - loss: 0.2150 - accuracy: 0.9350 - val_loss: 0.0996 - val_accuracy: 0.9717\n",
            "Epoch 7/10\n",
            "422/422 [==============================] - 2s 4ms/step - loss: 0.1989 - accuracy: 0.9391 - val_loss: 0.0974 - val_accuracy: 0.9750\n",
            "Epoch 8/10\n",
            "422/422 [==============================] - 2s 4ms/step - loss: 0.1910 - accuracy: 0.9422 - val_loss: 0.0907 - val_accuracy: 0.9755\n",
            "Epoch 9/10\n",
            "422/422 [==============================] - 2s 4ms/step - loss: 0.1847 - accuracy: 0.9431 - val_loss: 0.0844 - val_accuracy: 0.9768\n",
            "Epoch 10/10\n",
            "422/422 [==============================] - 2s 5ms/step - loss: 0.1763 - accuracy: 0.9470 - val_loss: 0.0836 - val_accuracy: 0.9770\n"
          ]
        },
        {
          "output_type": "execute_result",
          "data": {
            "text/plain": [
              "<keras.callbacks.History at 0x7f23e09de790>"
            ]
          },
          "metadata": {},
          "execution_count": 30
        }
      ]
    },
    {
      "cell_type": "code",
      "source": [
        "loss, acc = my_model4.evaluate(X_test, y_test)\n",
        "\n",
        "print(\"my_model4 obtained accuracy:\", acc)\n",
        "print(\"and loss:\", loss)"
      ],
      "metadata": {
        "colab": {
          "base_uri": "https://localhost:8080/"
        },
        "id": "XNtnp_1WbWxp",
        "outputId": "01101ccd-5eff-48d6-8a6f-89c85aff91dd"
      },
      "execution_count": null,
      "outputs": [
        {
          "output_type": "stream",
          "name": "stdout",
          "text": [
            "313/313 [==============================] - 2s 6ms/step - loss: 0.0899 - accuracy: 0.9728\n",
            "my_model4 obtained accuracy: 0.9728000164031982\n",
            "and loss: 0.08988766372203827\n"
          ]
        }
      ]
    },
    {
      "cell_type": "markdown",
      "source": [
        "### Model 5"
      ],
      "metadata": {
        "id": "4VKwttkeYSe9"
      }
    },
    {
      "cell_type": "code",
      "source": [
        "# bigger kernel_size\n",
        "# we have to reduce the layer count by one\n",
        "\n",
        "my_model5 = keras.Sequential(\n",
        "    [\n",
        "        keras.Input(shape=input_shape),\n",
        "        layers.Conv2D(24, kernel_size=(5,5), activation=\"relu\", strides=(3,2)),\n",
        "        layers.MaxPooling2D(pool_size=(2,2)),\n",
        "        layers.Flatten(),\n",
        "        layers.Dropout(0.5),\n",
        "        layers.Dense(num_classes, activation=\"softmax\")\n",
        "    ]\n",
        ")\n",
        "\n",
        "my_model5.summary()"
      ],
      "metadata": {
        "colab": {
          "base_uri": "https://localhost:8080/"
        },
        "id": "nWgucI5wbh6D",
        "outputId": "982ed4c5-ee94-40e4-e928-b30a440278cc"
      },
      "execution_count": 18,
      "outputs": [
        {
          "output_type": "stream",
          "name": "stdout",
          "text": [
            "Model: \"sequential_4\"\n",
            "_________________________________________________________________\n",
            " Layer (type)                Output Shape              Param #   \n",
            "=================================================================\n",
            " conv2d_8 (Conv2D)           (None, 8, 12, 24)         624       \n",
            "                                                                 \n",
            " max_pooling2d_7 (MaxPooling  (None, 4, 6, 24)         0         \n",
            " 2D)                                                             \n",
            "                                                                 \n",
            " flatten_4 (Flatten)         (None, 576)               0         \n",
            "                                                                 \n",
            " dropout_4 (Dropout)         (None, 576)               0         \n",
            "                                                                 \n",
            " dense_4 (Dense)             (None, 10)                5770      \n",
            "                                                                 \n",
            "=================================================================\n",
            "Total params: 6,394\n",
            "Trainable params: 6,394\n",
            "Non-trainable params: 0\n",
            "_________________________________________________________________\n"
          ]
        }
      ]
    },
    {
      "cell_type": "code",
      "source": [
        "my_model5.compile(loss=\"categorical_crossentropy\", optimizer=\"adam\", metrics=[\"accuracy\"])\n",
        "my_model5.fit(X_train, y_train, epochs=epochs, batch_size=batch_size, validation_split=0.1)"
      ],
      "metadata": {
        "colab": {
          "base_uri": "https://localhost:8080/"
        },
        "id": "GwvP5_iDcQtI",
        "outputId": "51737582-6f20-4039-ace7-cf29a1a77976"
      },
      "execution_count": 19,
      "outputs": [
        {
          "output_type": "stream",
          "name": "stdout",
          "text": [
            "Epoch 1/10\n",
            "422/422 [==============================] - 2s 4ms/step - loss: 0.8008 - accuracy: 0.7511 - val_loss: 0.2428 - val_accuracy: 0.9423\n",
            "Epoch 2/10\n",
            "422/422 [==============================] - 2s 4ms/step - loss: 0.3512 - accuracy: 0.8939 - val_loss: 0.1596 - val_accuracy: 0.9605\n",
            "Epoch 3/10\n",
            "422/422 [==============================] - 2s 5ms/step - loss: 0.2771 - accuracy: 0.9161 - val_loss: 0.1263 - val_accuracy: 0.9690\n",
            "Epoch 4/10\n",
            "422/422 [==============================] - 1s 3ms/step - loss: 0.2403 - accuracy: 0.9267 - val_loss: 0.1110 - val_accuracy: 0.9708\n",
            "Epoch 5/10\n",
            "422/422 [==============================] - 1s 3ms/step - loss: 0.2126 - accuracy: 0.9355 - val_loss: 0.0990 - val_accuracy: 0.9747\n",
            "Epoch 6/10\n",
            "422/422 [==============================] - 2s 4ms/step - loss: 0.1972 - accuracy: 0.9384 - val_loss: 0.0913 - val_accuracy: 0.9763\n",
            "Epoch 7/10\n",
            "422/422 [==============================] - 2s 4ms/step - loss: 0.1903 - accuracy: 0.9410 - val_loss: 0.0878 - val_accuracy: 0.9773\n",
            "Epoch 8/10\n",
            "422/422 [==============================] - 1s 3ms/step - loss: 0.1819 - accuracy: 0.9444 - val_loss: 0.0816 - val_accuracy: 0.9793\n",
            "Epoch 9/10\n",
            "422/422 [==============================] - 1s 4ms/step - loss: 0.1731 - accuracy: 0.9457 - val_loss: 0.0804 - val_accuracy: 0.9792\n",
            "Epoch 10/10\n",
            "422/422 [==============================] - 2s 5ms/step - loss: 0.1650 - accuracy: 0.9491 - val_loss: 0.0755 - val_accuracy: 0.9802\n"
          ]
        },
        {
          "output_type": "execute_result",
          "data": {
            "text/plain": [
              "<keras.callbacks.History at 0x7f593e128790>"
            ]
          },
          "metadata": {},
          "execution_count": 19
        }
      ]
    },
    {
      "cell_type": "code",
      "source": [
        "loss, acc = my_model5.evaluate(X_test, y_test)\n",
        "\n",
        "print(\"my_model5 obtained accuracy:\", acc)\n",
        "print(\"and loss:\", loss)"
      ],
      "metadata": {
        "colab": {
          "base_uri": "https://localhost:8080/"
        },
        "id": "tBHI-ZFxcXOu",
        "outputId": "53ed2a59-50b9-45f9-8468-1a20529b6b4a"
      },
      "execution_count": 20,
      "outputs": [
        {
          "output_type": "stream",
          "name": "stdout",
          "text": [
            "313/313 [==============================] - 1s 2ms/step - loss: 0.0842 - accuracy: 0.9754\n",
            "my_model5 obtained accuracy: 0.9753999710083008\n",
            "and loss: 0.08420082926750183\n"
          ]
        }
      ]
    },
    {
      "cell_type": "markdown",
      "source": [
        "### Model 6"
      ],
      "metadata": {
        "id": "gB2-xBa_YWon"
      }
    },
    {
      "cell_type": "code",
      "source": [
        "# bigger kernel_size and two layers\n",
        "\n",
        "my_model6 = keras.Sequential(\n",
        "    [\n",
        "        keras.Input(shape=input_shape),\n",
        "        layers.Conv2D(24, kernel_size=(4,4), activation=\"relu\", strides=(3,3)),\n",
        "        layers.MaxPooling2D(pool_size=(2,2)),\n",
        "        layers.Conv2D(24, kernel_size=(4,4), activation=\"relu\", strides=(3,3)),\n",
        "        layers.Flatten(),\n",
        "        layers.Dropout(0.5),\n",
        "        layers.Dense(num_classes, activation=\"softmax\")\n",
        "    ]\n",
        ")\n",
        "\n",
        "my_model6.summary()"
      ],
      "metadata": {
        "colab": {
          "base_uri": "https://localhost:8080/"
        },
        "id": "XBAz6zdWjWUJ",
        "outputId": "b40c570c-a3a7-40b2-b244-383c12a1f4ba"
      },
      "execution_count": 21,
      "outputs": [
        {
          "output_type": "stream",
          "name": "stdout",
          "text": [
            "Model: \"sequential_5\"\n",
            "_________________________________________________________________\n",
            " Layer (type)                Output Shape              Param #   \n",
            "=================================================================\n",
            " conv2d_9 (Conv2D)           (None, 9, 9, 24)          408       \n",
            "                                                                 \n",
            " max_pooling2d_8 (MaxPooling  (None, 4, 4, 24)         0         \n",
            " 2D)                                                             \n",
            "                                                                 \n",
            " conv2d_10 (Conv2D)          (None, 1, 1, 24)          9240      \n",
            "                                                                 \n",
            " flatten_5 (Flatten)         (None, 24)                0         \n",
            "                                                                 \n",
            " dropout_5 (Dropout)         (None, 24)                0         \n",
            "                                                                 \n",
            " dense_5 (Dense)             (None, 10)                250       \n",
            "                                                                 \n",
            "=================================================================\n",
            "Total params: 9,898\n",
            "Trainable params: 9,898\n",
            "Non-trainable params: 0\n",
            "_________________________________________________________________\n"
          ]
        }
      ]
    },
    {
      "cell_type": "code",
      "source": [
        "my_model6.compile(loss=\"categorical_crossentropy\", optimizer=\"adam\", metrics=[\"accuracy\"])\n",
        "my_model6.fit(X_train, y_train, epochs=epochs, batch_size=batch_size, validation_split=0.1)"
      ],
      "metadata": {
        "colab": {
          "base_uri": "https://localhost:8080/"
        },
        "id": "g1kLoZcuYbdk",
        "outputId": "c200de71-2bb3-46d6-adc4-1151b830de95"
      },
      "execution_count": 22,
      "outputs": [
        {
          "output_type": "stream",
          "name": "stdout",
          "text": [
            "Epoch 1/10\n",
            "422/422 [==============================] - 2s 5ms/step - loss: 1.2047 - accuracy: 0.5831 - val_loss: 0.3809 - val_accuracy: 0.9152\n",
            "Epoch 2/10\n",
            "422/422 [==============================] - 2s 4ms/step - loss: 0.7264 - accuracy: 0.7411 - val_loss: 0.2462 - val_accuracy: 0.9428\n",
            "Epoch 3/10\n",
            "422/422 [==============================] - 2s 4ms/step - loss: 0.6245 - accuracy: 0.7733 - val_loss: 0.1857 - val_accuracy: 0.9553\n",
            "Epoch 4/10\n",
            "422/422 [==============================] - 2s 4ms/step - loss: 0.5742 - accuracy: 0.7910 - val_loss: 0.1606 - val_accuracy: 0.9592\n",
            "Epoch 5/10\n",
            "422/422 [==============================] - 2s 4ms/step - loss: 0.5403 - accuracy: 0.8035 - val_loss: 0.1500 - val_accuracy: 0.9602\n",
            "Epoch 6/10\n",
            "422/422 [==============================] - 2s 4ms/step - loss: 0.5181 - accuracy: 0.8092 - val_loss: 0.1325 - val_accuracy: 0.9623\n",
            "Epoch 7/10\n",
            "422/422 [==============================] - 2s 4ms/step - loss: 0.5127 - accuracy: 0.8141 - val_loss: 0.1357 - val_accuracy: 0.9638\n",
            "Epoch 8/10\n",
            "422/422 [==============================] - 2s 4ms/step - loss: 0.4920 - accuracy: 0.8229 - val_loss: 0.1184 - val_accuracy: 0.9672\n",
            "Epoch 9/10\n",
            "422/422 [==============================] - 2s 4ms/step - loss: 0.4792 - accuracy: 0.8272 - val_loss: 0.1136 - val_accuracy: 0.9668\n",
            "Epoch 10/10\n",
            "422/422 [==============================] - 2s 4ms/step - loss: 0.4702 - accuracy: 0.8312 - val_loss: 0.1165 - val_accuracy: 0.9658\n"
          ]
        },
        {
          "output_type": "execute_result",
          "data": {
            "text/plain": [
              "<keras.callbacks.History at 0x7f593fedf9a0>"
            ]
          },
          "metadata": {},
          "execution_count": 22
        }
      ]
    },
    {
      "cell_type": "code",
      "source": [
        "loss, acc = my_model5.evaluate(X_test, y_test)\n",
        "\n",
        "print(\"my_model6 obtained accuracy:\", acc)\n",
        "print(\"and loss:\", loss)"
      ],
      "metadata": {
        "colab": {
          "base_uri": "https://localhost:8080/"
        },
        "id": "4xSLmMURYhBL",
        "outputId": "c52ddaeb-dcf9-45f9-cbcf-ca8a8f12b0ab"
      },
      "execution_count": 23,
      "outputs": [
        {
          "output_type": "stream",
          "name": "stdout",
          "text": [
            "313/313 [==============================] - 1s 2ms/step - loss: 0.0842 - accuracy: 0.9754\n",
            "my_model6 obtained accuracy: 0.9753999710083008\n",
            "and loss: 0.08420082926750183\n"
          ]
        }
      ]
    },
    {
      "cell_type": "markdown",
      "source": [
        "Even here, having just around 6300 parameters we obtain good results. Just a have of percent lower than in the best model so far. There is a more significant change in the loss function, which value for the test set is almost two times bigger."
      ],
      "metadata": {
        "id": "RSI9N1gShob4"
      }
    },
    {
      "cell_type": "markdown",
      "source": [
        "## Analysis of a model\n",
        "I have choosen the first one, but every is working with simmilar accuracy, so others could have been chosen."
      ],
      "metadata": {
        "id": "J6QE0g9CZD1E"
      }
    },
    {
      "cell_type": "code",
      "source": [
        "y_pred = my_model1.predict(X_test)"
      ],
      "metadata": {
        "colab": {
          "base_uri": "https://localhost:8080/"
        },
        "id": "7y3z84q1kaAQ",
        "outputId": "414e9309-ac08-4c7f-bb59-5d29de9ed4cf"
      },
      "execution_count": null,
      "outputs": [
        {
          "output_type": "stream",
          "name": "stdout",
          "text": [
            "313/313 [==============================] - 1s 2ms/step\n"
          ]
        }
      ]
    },
    {
      "cell_type": "code",
      "source": [
        "np.argmax(y_pred[0])\n",
        "plt.imshow(X_test[1].reshape(28,28))\n",
        "print(y_test[1])"
      ],
      "metadata": {
        "colab": {
          "base_uri": "https://localhost:8080/",
          "height": 282
        },
        "id": "RxGkZPfukx9t",
        "outputId": "d76c454f-7e5e-437a-e7f9-a0d5cddf4f26"
      },
      "execution_count": null,
      "outputs": [
        {
          "output_type": "stream",
          "name": "stdout",
          "text": [
            "[0. 0. 1. 0. 0. 0. 0. 0. 0. 0.]\n"
          ]
        },
        {
          "output_type": "display_data",
          "data": {
            "text/plain": [
              "<Figure size 432x288 with 1 Axes>"
            ],
            "image/png": "[encoded data removed]"
          },
          "metadata": {
            "needs_background": "light"
          }
        }
      ]
    },
    {
      "cell_type": "code",
      "source": [
        "y_pred_digit = np.array([np.argmax(x) for x in y_pred])\n",
        "y_test_digit = np.array([np.argmax(x) for x in y_test])"
      ],
      "metadata": {
        "id": "MDM5eQBNlRz-"
      },
      "execution_count": null,
      "outputs": []
    },
    {
      "cell_type": "code",
      "source": [
        "indecies_of_wrongly_predicted = np.where((y_pred_digit != y_test_digit) == True)"
      ],
      "metadata": {
        "id": "s8dPorTjmVil"
      },
      "execution_count": null,
      "outputs": []
    },
    {
      "cell_type": "code",
      "source": [
        "y_wrongly_predicted = y_pred_digit[indecies_of_wrongly_predicted]"
      ],
      "metadata": {
        "id": "frY3RvAco58w"
      },
      "execution_count": null,
      "outputs": []
    },
    {
      "cell_type": "code",
      "source": [
        "wrongly_predicted = X_train[indecies_of_wrongly_predicted]"
      ],
      "metadata": {
        "id": "VNheSSHhkwhN"
      },
      "execution_count": null,
      "outputs": []
    },
    {
      "cell_type": "code",
      "source": [
        "wrongly_predicted.shape"
      ],
      "metadata": {
        "colab": {
          "base_uri": "https://localhost:8080/"
        },
        "id": "8Q9X9FEDmK6G",
        "outputId": "4b1cce9f-f5a0-4149-f7c4-834f4ad25a9d"
      },
      "execution_count": null,
      "outputs": [
        {
          "output_type": "execute_result",
          "data": {
            "text/plain": [
              "(220, 28, 28, 1)"
            ]
          },
          "metadata": {},
          "execution_count": 21
        }
      ]
    },
    {
      "cell_type": "code",
      "source": [
        "i = 93\n",
        "\n",
        "plt.imshow(wrongly_predicted[i].reshape(28,28))\n",
        "plt.axis('off')\n",
        "plt.title(f\"Predicted: {y_wrongly_predicted[i]}\")"
      ],
      "metadata": {
        "colab": {
          "base_uri": "https://localhost:8080/",
          "height": 281
        },
        "id": "4Dh0kcKRqS2W",
        "outputId": "1efc64d6-aabd-494d-fe69-0ef50b4b775b"
      },
      "execution_count": null,
      "outputs": [
        {
          "output_type": "execute_result",
          "data": {
            "text/plain": [
              "Text(0.5, 1.0, 'Predicted: 1')"
            ]
          },
          "metadata": {},
          "execution_count": 35
        },
        {
          "output_type": "display_data",
          "data": {
            "text/plain": [
              "<Figure size 432x288 with 1 Axes>"
            ],
            "image/png": "[encoded data removed]"
          },
          "metadata": {
            "needs_background": "light"
          }
        }
      ]
    },
    {
      "cell_type": "markdown",
      "source": [
        "I would also classify this as a 1..."
      ],
      "metadata": {
        "id": "VCfYnVdSrqmv"
      }
    },
    {
      "cell_type": "code",
      "source": [
        "i = 78\n",
        "\n",
        "plt.imshow(wrongly_predicted[i].reshape(28,28))\n",
        "plt.axis('off')\n",
        "plt.title(f\"Predicted: {y_wrongly_predicted[i]}\")"
      ],
      "metadata": {
        "colab": {
          "base_uri": "https://localhost:8080/",
          "height": 281
        },
        "id": "SUrbu8-8rC8p",
        "outputId": "cd386354-9407-4645-f53f-1f94b50a37ae"
      },
      "execution_count": null,
      "outputs": [
        {
          "output_type": "execute_result",
          "data": {
            "text/plain": [
              "Text(0.5, 1.0, 'Predicted: 9')"
            ]
          },
          "metadata": {},
          "execution_count": 25
        },
        {
          "output_type": "display_data",
          "data": {
            "text/plain": [
              "<Figure size 432x288 with 1 Axes>"
            ],
            "image/png": "[encoded data removed]"
          },
          "metadata": {
            "needs_background": "light"
          }
        }
      ]
    },
    {
      "cell_type": "markdown",
      "source": [
        "This one is not an easy one as well"
      ],
      "metadata": {
        "id": "hjWDYlUPz4hq"
      }
    },
    {
      "cell_type": "code",
      "source": [
        "n = 10\n",
        "fig, axs = plt.subplots(n, n) \n",
        "\n",
        "fig.set_dpi(n*50)\n",
        "\n",
        "for i in range(n):\n",
        "  for j in range(n):\n",
        "    axs[i, j].imshow(wrongly_predicted[i*n+j].reshape(28,28))\n",
        "    axs[i, j].axis('off')\n",
        "    axs[i, j].set_title(f\"Predicted: {y_wrongly_predicted[i*n+j]}\", {'fontsize': 3}, pad=1)\n"
      ],
      "metadata": {
        "colab": {
          "base_uri": "https://localhost:8080/",
          "height": 997
        },
        "id": "8OzJ5Hv6kwCp",
        "outputId": "49941ecb-2769-41c5-c658-95b7eee9cb32"
      },
      "execution_count": null,
      "outputs": [
        {
          "output_type": "display_data",
          "data": {
            "text/plain": [
              "<Figure size 3000x2000 with 100 Axes>"
            ],
            "image/png": "[encoded data removed]"
          },
          "metadata": {
            "needs_background": "light"
          }
        }
      ]
    },
    {
      "cell_type": "markdown",
      "source": [
        "As we see here some of the digits are written very messy."
      ],
      "metadata": {
        "id": "eoHj4gYs0HWQ"
      }
    },
    {
      "cell_type": "code",
      "source": [
        "i = 30\n",
        "\n",
        "plt.imshow(wrongly_predicted[i].reshape(28,28))\n",
        "plt.axis('off')\n",
        "plt.title(f\"Predicted: {y_wrongly_predicted[i]}\")"
      ],
      "metadata": {
        "colab": {
          "base_uri": "https://localhost:8080/",
          "height": 281
        },
        "id": "JjpUtvHT0kn5",
        "outputId": "63802f24-0449-4a1e-ed18-c8060242a89e"
      },
      "execution_count": null,
      "outputs": [
        {
          "output_type": "execute_result",
          "data": {
            "text/plain": [
              "Text(0.5, 1.0, 'Predicted: 1')"
            ]
          },
          "metadata": {},
          "execution_count": 26
        },
        {
          "output_type": "display_data",
          "data": {
            "text/plain": [
              "<Figure size 432x288 with 1 Axes>"
            ],
            "image/png": "[encoded data removed]"
          },
          "metadata": {
            "needs_background": "light"
          }
        }
      ]
    },
    {
      "cell_type": "markdown",
      "source": [
        "Again in my opinion well asigned."
      ],
      "metadata": {
        "id": "JSZcSgF001Za"
      }
    },
    {
      "cell_type": "markdown",
      "source": [
        "### Summary\n",
        "In all those examples, we obtained around 98% accuracy on the test set, which is satisfying result. The best models are the two first ones. As we can see on the plots, the digit aren't always easy to read, even by the human eye, so it might be impossible to obtain even higher accuracy.\n",
        "\n",
        "Also, [MNIST is said to be too easy](https://www.ttested.com/ditch-mnist), even for standard dense NN, so for CNN, which deals with images flawlessly, the 10 000 params constraint is not a problem at all."
      ],
      "metadata": {
        "id": "D0AMWmIRhhKQ"
      }
    }
  ]
}